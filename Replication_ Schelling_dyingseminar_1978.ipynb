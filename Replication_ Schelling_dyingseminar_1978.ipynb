{
 "cells": [
  {
   "cell_type": "markdown",
   "metadata": {},
   "source": [
    "This following code implements Thomas C. Schelling. 1978. “Thermostats, Lemons, and Other Families of Models.” Micromotives and Macrobehavior. (pgs 91-94, 97, 105-6)"
   ]
  },
  {
   "cell_type": "markdown",
   "metadata": {},
   "source": [
    "Replication of Dying Seminar Model by Chen-Shuo Hong (2017) <br />\n",
    "\n",
    "This model is an illustration of critical mass. Namely, whether an actor attends the seminar or not depends on how many others attend in the previous round. If the attendence rate is below the threshold, the actor will drop out. Otherwise, the actor will attend. There are some varieties of setting threshold, such as fixing a few actors' threshold below zero (always attend) or higher than the population size (never attend).\n",
    "\n",
    "Pseudocode in plain English\n",
    "1. Assign initial conditions: a. initial attendance b. threshold of attending. \n",
    "2. The parameter is threshold distribution, population size, initial attending proportion, number of iterations.\n",
    "3. For all actors in each round, compare the proportion of attending in the previous round with the thresholds.\n",
    "4. If the attending is below the threshold, drop out, otherwise attend.\n",
    "5. Calculate the number of actors who attend the seminar in each iteration.\n",
    "\n",
    "Note: this replication is agent-level, stochastic, synchronous, discrete-time, discrete-state implementation. The program structure derived from James Kitts, 2014"
   ]
  },
  {
   "cell_type": "code",
   "execution_count": 1,
   "metadata": {
    "collapsed": true
   },
   "outputs": [],
   "source": [
    "import numpy as np\n",
    "import pandas as pd\n",
    "import matplotlib.pyplot as plt\n",
    "import random"
   ]
  },
  {
   "cell_type": "code",
   "execution_count": 2,
   "metadata": {
    "collapsed": true
   },
   "outputs": [],
   "source": [
    "# Set Parameters\n",
    "size = 100 # populaion size\n",
    "iap = 0.9 # initial attending proportion\n",
    "mu = 80\n",
    "sigma = 15\n",
    "maxt = 100 # specify the number of iterations"
   ]
  },
  {
   "cell_type": "code",
   "execution_count": 3,
   "metadata": {
    "collapsed": false
   },
   "outputs": [],
   "source": [
    "# Set Initial Conditions\n",
    "ia = iap * size # initial attendance\n",
    "threshold = np.random.normal(mu, sigma, size) # threshold of attending\n",
    "#print(threshold, ia)"
   ]
  },
  {
   "cell_type": "code",
   "execution_count": 4,
   "metadata": {
    "collapsed": false
   },
   "outputs": [],
   "source": [
    "# BEGIN Loop Over Iterations\n",
    "def dyingseminar(ia, threshold, size, maxt):\n",
    "    attendance = np.zeros(maxt)\n",
    "    time = np.arange(1, maxt+1)\n",
    "    for i in range(0, maxt-1):\n",
    "        attendance[0] = ia\n",
    "        attendance[i+1] = sum(attendance[i] >= threshold)\n",
    "    print(attendance)\n",
    "    plt.plot(time, attendance, 'r', label = \"number of attendees\")"
   ]
  },
  {
   "cell_type": "code",
   "execution_count": 5,
   "metadata": {
    "collapsed": false
   },
   "outputs": [
    {
     "name": "stdout",
     "output_type": "stream",
     "text": [
      "[ 90.  73.  35.   0.   0.   0.   0.   0.   0.   0.   0.   0.   0.   0.   0.\n",
      "   0.   0.   0.   0.   0.   0.   0.   0.   0.   0.   0.   0.   0.   0.   0.\n",
      "   0.   0.   0.   0.   0.   0.   0.   0.   0.   0.   0.   0.   0.   0.   0.\n",
      "   0.   0.   0.   0.   0.   0.   0.   0.   0.   0.   0.   0.   0.   0.   0.\n",
      "   0.   0.   0.   0.   0.   0.   0.   0.   0.   0.   0.   0.   0.   0.   0.\n",
      "   0.   0.   0.   0.   0.   0.   0.   0.   0.   0.   0.   0.   0.   0.   0.\n",
      "   0.   0.   0.   0.   0.   0.   0.   0.   0.   0.]\n"
     ]
    },
    {
     "data": {
      "image/png": "[encoded data removed]",
      "text/plain": [
       "<matplotlib.figure.Figure at 0x243a322af60>"
      ]
     },
     "metadata": {},
     "output_type": "display_data"
    }
   ],
   "source": [
    "dyingseminar(ia, threshold, size, maxt)\n",
    "plt.xlabel('Time')\n",
    "plt.ylabel('Attendance')\n",
    "plt.legend(bbox_to_anchor=(1.05, 1), loc=2, borderaxespad=0.) # plot legend outside of graph\n",
    "plt.show()"
   ]
  },
  {
   "cell_type": "code",
   "execution_count": null,
   "metadata": {
    "collapsed": true
   },
   "outputs": [],
   "source": []
  }
 ],
 "metadata": {
  "kernelspec": {
   "display_name": "Python [default]",
   "language": "python",
   "name": "python3"
  },
  "language_info": {
   "codemirror_mode": {
    "name": "ipython",
    "version": 3
   },
   "file_extension": ".py",
   "mimetype": "text/x-python",
   "name": "python",
   "nbconvert_exporter": "python",
   "pygments_lexer": "ipython3",
   "version": "3.5.2"
  }
 },
 "nbformat": 4,
 "nbformat_minor": 1
}
