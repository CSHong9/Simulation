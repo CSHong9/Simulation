{
 "cells": [
  {
   "cell_type": "markdown",
   "metadata": {},
   "source": [
    "This following code implements Leik, Robert K. and Barbara F. Meeker. 1995. “Computer Simulation for Exploring \n",
    "Theories:  Models  of  Interpersonal  Cooperation  and  Competition.”  Sociological Perspectives 38. (pgs 463-470)"
   ]
  },
  {
   "cell_type": "markdown",
   "metadata": {},
   "source": [
    "Replication of Richardson Arms Race Model by Chen-Shuo Hong (2017)<br />\n",
    "Xt+1 = Xt + sxYt - fxXt + gx<br />\n",
    "Yt+1 = Yt + syXt - fyYt + gy<br />\n",
    "Note: this replication is discrete-time-implementation"
   ]
  },
  {
   "cell_type": "code",
   "execution_count": 1,
   "metadata": {
    "collapsed": true
   },
   "outputs": [],
   "source": [
    "import numpy as np\n",
    "import matplotlib.pyplot as plt"
   ]
  },
  {
   "cell_type": "code",
   "execution_count": 11,
   "metadata": {
    "collapsed": true
   },
   "outputs": [],
   "source": [
    "# Set Parameters\n",
    "sx = 0.09 # nation x and y sensitivity to enemy's arms\n",
    "sy = 0.12 \n",
    "fx = 0.15 # nation x and y fatigue (size-sensitive decay)\n",
    "fy = 0.05\n",
    "gx = 0.02 # nation x and y grievances (intrinsic growth)\n",
    "gy = 0.01 \n",
    "maxt = 10 # specify the number of iterations for Richardson Arms Race Model"
   ]
  },
  {
   "cell_type": "code",
   "execution_count": 12,
   "metadata": {
    "collapsed": true
   },
   "outputs": [],
   "source": [
    "# Set Initial Conditions\n",
    "X1 = 15\n",
    "Y1 = 20"
   ]
  },
  {
   "cell_type": "code",
   "execution_count": 13,
   "metadata": {
    "collapsed": false,
    "scrolled": true
   },
   "outputs": [
    {
     "name": "stdout",
     "output_type": "stream",
     "text": [
      "True\n"
     ]
    }
   ],
   "source": [
    "# Find Equilibrium of the Model (deltaX = 0 & deltaY = 0)\n",
    "Xbar = (gx*fy + gy*sx) / (fx*fy - sy*sx)\n",
    "Ybar = (gy*fx + gx*sy) / (fx*fy - sy*sx)\n",
    "print(Xbar >= 0 and Ybar >= 0)"
   ]
  },
  {
   "cell_type": "code",
   "execution_count": 14,
   "metadata": {
    "collapsed": false,
    "scrolled": true
   },
   "outputs": [
    {
     "data": {
      "image/png": "[encoded data removed]",
      "text/plain": [
       "<matplotlib.figure.Figure at 0x1e1568a4a58>"
      ]
     },
     "metadata": {},
     "output_type": "display_data"
    }
   ],
   "source": [
    "# Create Richardson Arms Race Function\n",
    "def richard(sx, sy, fx, fy, gx, gy, n):\n",
    "    x = np.linspace(0.0, 1.0, n)                # create array for points value of x state \n",
    "    y = np.linspace(0.0, 1.0, n)                # create array for points value of y state\n",
    "    time = np.arange(1, n+1)      \n",
    "    x[0] = X1\n",
    "    y[0] = Y1\n",
    "    for i in range (0, n-1):                    # iteration over time(n)\n",
    "        x[i+1] = x[i] + sx*y[i] - fx*x[i] + gx  #update country x's arms level as next row in x\n",
    "        y[i+1] = y[i] + sy*x[i] - fy*y[i] + gy  #update country y's arms level as next row in y\n",
    "    #print(x)\n",
    "    #print(y)\n",
    "    plt.plot(time, x, 'b', label = \"blue\")\n",
    "    plt.plot(time, y, 'r', label = \"red\")\n",
    "    ymin = min(min(x), min(y)) + 0.01\n",
    "    ymax = max(max(x), max(y)) + 0.01\n",
    "\n",
    "richard(sx, sy, fx, fy, gx, gy, maxt)\n",
    "plt.xlabel('Time')\n",
    "plt.ylabel('Levels')\n",
    "plt.legend(bbox_to_anchor=(1.05, 1), loc=2, borderaxespad=0.) # plot legend outside of graph\n",
    "plt.show()"
   ]
  },
  {
   "cell_type": "code",
   "execution_count": null,
   "metadata": {
    "collapsed": true
   },
   "outputs": [],
   "source": []
  }
 ],
 "metadata": {
  "anaconda-cloud": {},
  "kernelspec": {
   "display_name": "Python [default]",
   "language": "python",
   "name": "python3"
  },
  "language_info": {
   "codemirror_mode": {
    "name": "ipython",
    "version": 3
   },
   "file_extension": ".py",
   "mimetype": "text/x-python",
   "name": "python",
   "nbconvert_exporter": "python",
   "pygments_lexer": "ipython3",
   "version": "3.5.2"
  }
 },
 "nbformat": 4,
 "nbformat_minor": 1
}
